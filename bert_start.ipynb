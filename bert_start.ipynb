{
 "cells": [
  {
   "cell_type": "code",
   "execution_count": null,
   "metadata": {
    "colab": {},
    "colab_type": "code",
    "id": "I7l3eQQJyATO"
   },
   "outputs": [],
   "source": [
    "!python run_classifier.py --task_name=cola --do_train=true --do_eval=true --data_dir=./data/ --vocab_file=./model/vocab.txt --bert_config_file=./model/bert_config.json --init_checkpoint=./model/bert_model.ckpt --max_seq_length=256 --train_batch_size=8 --learning_rate=2e-5 --num_train_epochs=3.0 --save_checkpoints_steps=4000 --output_dir=./output/ --do_lower_case=False\n"
   ]
  },
  {
   "cell_type": "code",
   "execution_count": null,
   "metadata": {
    "colab": {},
    "colab_type": "code",
    "id": "v11NjijiSnTs"
   },
   "outputs": [],
   "source": [
    "!python run_classifier.py --task_name=cola --do_predict=true --data_dir=./data/ --vocab_file=./model/vocab.txt --bert_config_file=./model/bert_config.json --init_checkpoint=./output/model.ckpt-12000 --max_seq_length=256 --output_dir=./output/\n"
   ]
  },
  {
   "cell_type": "code",
   "execution_count": null,
   "metadata": {
    "colab": {
     "base_uri": "https://localhost:8080/",
     "height": 204
    },
    "colab_type": "code",
    "executionInfo": {
     "elapsed": 1034,
     "status": "ok",
     "timestamp": 1587098325954,
     "user": {
      "displayName": "Woradanue Nakdee",
      "photoUrl": "https://lh3.googleusercontent.com/a-/AOh14GhwlrfLlSfQyqMOfUQQh2MiC3uvkPfTMcJNcsvZCA=s64",
      "userId": "17393324556265428893"
     },
     "user_tz": -420
    },
    "id": "UWqn3YTkVWwA",
    "outputId": "d66fab4d-62ec-49f8-99a2-537f81e57e4a"
   },
   "outputs": [],
   "source": [
    "import pandas as pd\n",
    "df_result = pd.read_csv('output/test_results.tsv', sep='\\t', header=None)\n",
    "df_result.head()"
   ]
  },
  {
   "cell_type": "code",
   "execution_count": null,
   "metadata": {
    "colab": {},
    "colab_type": "code",
    "id": "XjCr0bctViLU"
   },
   "outputs": [],
   "source": [
    "df_test_with_label = pd.read_csv('data/test_2.tsv', sep='\\t')"
   ]
  },
  {
   "cell_type": "code",
   "execution_count": null,
   "metadata": {
    "colab": {
     "base_uri": "https://localhost:8080/",
     "height": 204
    },
    "colab_type": "code",
    "executionInfo": {
     "elapsed": 1022,
     "status": "ok",
     "timestamp": 1587098330869,
     "user": {
      "displayName": "Woradanue Nakdee",
      "photoUrl": "https://lh3.googleusercontent.com/a-/AOh14GhwlrfLlSfQyqMOfUQQh2MiC3uvkPfTMcJNcsvZCA=s64",
      "userId": "17393324556265428893"
     },
     "user_tz": -420
    },
    "id": "tomDT6XoVi5E",
    "outputId": "bd4412b9-3850-4504-96ac-0fb4db83cf80"
   },
   "outputs": [],
   "source": [
    "df_predict = pd.DataFrame({'id':df_test_with_label['id'],\n",
    "                            'labels':df_result.idxmax(axis=1),\n",
    "                            'text':df_test_with_label['text_clean'],})\n",
    "df_predict.head()"
   ]
  },
  {
   "cell_type": "code",
   "execution_count": null,
   "metadata": {
    "colab": {},
    "colab_type": "code",
    "id": "osP4B9yjV1fG"
   },
   "outputs": [],
   "source": [
    "df_predict.to_csv('data/df_predict.csv',index=False)"
   ]
  },
  {
   "cell_type": "code",
   "execution_count": null,
   "metadata": {
    "colab": {},
    "colab_type": "code",
    "id": "TxwLCK2pWZPV"
   },
   "outputs": [],
   "source": [
    "from sklearn.metrics import accuracy_score, precision_score, recall_score, confusion_matrix, f1_score"
   ]
  },
  {
   "cell_type": "code",
   "execution_count": null,
   "metadata": {
    "colab": {},
    "colab_type": "code",
    "id": "i779GNOedJ66"
   },
   "outputs": [],
   "source": [
    "y_labels = df_test_with_label['labels']\n",
    "y_predict = df_predict['labels']"
   ]
  },
  {
   "cell_type": "code",
   "execution_count": null,
   "metadata": {
    "colab": {
     "base_uri": "https://localhost:8080/",
     "height": 139
    },
    "colab_type": "code",
    "executionInfo": {
     "elapsed": 1083,
     "status": "ok",
     "timestamp": 1587098351389,
     "user": {
      "displayName": "Woradanue Nakdee",
      "photoUrl": "https://lh3.googleusercontent.com/a-/AOh14GhwlrfLlSfQyqMOfUQQh2MiC3uvkPfTMcJNcsvZCA=s64",
      "userId": "17393324556265428893"
     },
     "user_tz": -420
    },
    "id": "rhDxi1-zd8wI",
    "outputId": "e73ac96e-26af-4c31-acbe-472ab0346a0b"
   },
   "outputs": [],
   "source": [
    "accuracy = accuracy_score(y_labels, y_predict)\n",
    "print('Accuracy: %f' % accuracy)\n",
    "\n",
    "precision = precision_score(y_labels, y_predict, average='macro')\n",
    "print('Precision: %f' % precision)\n",
    "\n",
    "recall = recall_score(y_labels, y_predict, average='macro')\n",
    "print('Recall: %f' % recall)\n",
    "\n",
    "f1 = f1_score(y_labels, y_predict, average='macro')\n",
    "print('F1 score: %f' % f1)"
   ]
  },
  {
   "cell_type": "code",
   "execution_count": null,
   "metadata": {
    "colab": {
     "base_uri": "https://localhost:8080/",
     "height": 68
    },
    "colab_type": "code",
    "executionInfo": {
     "elapsed": 1391,
     "status": "ok",
     "timestamp": 1587098365791,
     "user": {
      "displayName": "Woradanue Nakdee",
      "photoUrl": "https://lh3.googleusercontent.com/a-/AOh14GhwlrfLlSfQyqMOfUQQh2MiC3uvkPfTMcJNcsvZCA=s64",
      "userId": "17393324556265428893"
     },
     "user_tz": -420
    },
    "id": "j9jEDxibeTIU",
    "outputId": "7a3bf6e9-8972-4b7b-ca78-c4b9636b6bc5"
   },
   "outputs": [],
   "source": [
    "cm = confusion_matrix(y_labels, y_predict)\n",
    "print(cm)"
   ]
  },
  {
   "cell_type": "code",
   "execution_count": null,
   "metadata": {
    "colab": {
     "base_uri": "https://localhost:8080/",
     "height": 349
    },
    "colab_type": "code",
    "executionInfo": {
     "elapsed": 1295,
     "status": "ok",
     "timestamp": 1587098369984,
     "user": {
      "displayName": "Woradanue Nakdee",
      "photoUrl": "https://lh3.googleusercontent.com/a-/AOh14GhwlrfLlSfQyqMOfUQQh2MiC3uvkPfTMcJNcsvZCA=s64",
      "userId": "17393324556265428893"
     },
     "user_tz": -420
    },
    "id": "rnrqs3SfeUC9",
    "outputId": "5ea1562c-821f-487d-d6c1-646c777e5c1f"
   },
   "outputs": [],
   "source": [
    "import seaborn as sns\n",
    "import matplotlib.pyplot as plt \n",
    "%matplotlib inline\n",
    "import numpy as np\n",
    "\n",
    "ax= plt.subplot()\n",
    "sns.heatmap(cm, annot=True, ax = ax, fmt='g', cmap='Greens'); #annot=True to annotate cells\n",
    "\n",
    "# labels, title and ticks\n",
    "ax.set_xlabel('Predicted labels'); ax.set_ylabel('True labels'); \n",
    "ax.set_title('Confusion Matrix'); \n",
    "ax.xaxis.set_ticklabels(['pos', 'neg', 'neu']); \n",
    "ax.yaxis.set_ticklabels(['pos', 'neg', 'neu']);"
   ]
  },
  {
   "cell_type": "code",
   "execution_count": null,
   "metadata": {
    "colab": {
     "base_uri": "https://localhost:8080/",
     "height": 295
    },
    "colab_type": "code",
    "executionInfo": {
     "elapsed": 1296,
     "status": "ok",
     "timestamp": 1587098373401,
     "user": {
      "displayName": "Woradanue Nakdee",
      "photoUrl": "https://lh3.googleusercontent.com/a-/AOh14GhwlrfLlSfQyqMOfUQQh2MiC3uvkPfTMcJNcsvZCA=s64",
      "userId": "17393324556265428893"
     },
     "user_tz": -420
    },
    "id": "qozbNe-KehYy",
    "outputId": "3ccc4596-e16d-47c6-8d92-0ee098c8ce99"
   },
   "outputs": [],
   "source": [
    "# Normalized\n",
    "cmn = cm.astype('float') / cm.sum(axis=1)[:, np.newaxis]\n",
    "cmn = np.around(cmn, decimals=2)\n",
    "ax = plt.subplot()\n",
    "sns.heatmap(cmn, annot=True, ax = ax, fmt='g', cmap='Blues'); #annot=True to annotate cells\n",
    "# labels, title and ticks\n",
    "ax.set_xlabel('Predicted labels'); ax.set_ylabel('True labels'); \n",
    "ax.set_title('Normalized Confusion Matrix'); \n",
    "ax.xaxis.set_ticklabels(['pos', 'neg', 'neu']); \n",
    "ax.yaxis.set_ticklabels(['pos', 'neg', 'neu']);"
   ]
  }
 ],
 "metadata": {
  "accelerator": "GPU",
  "colab": {
   "collapsed_sections": [],
   "name": "bert_start.ipynb",
   "provenance": []
  },
  "kernelspec": {
   "display_name": "Python 3",
   "language": "python",
   "name": "python3"
  },
  "language_info": {
   "codemirror_mode": {
    "name": "ipython",
    "version": 3
   },
   "file_extension": ".py",
   "mimetype": "text/x-python",
   "name": "python",
   "nbconvert_exporter": "python",
   "pygments_lexer": "ipython3",
   "version": "3.7.6"
  }
 },
 "nbformat": 4,
 "nbformat_minor": 1
}
